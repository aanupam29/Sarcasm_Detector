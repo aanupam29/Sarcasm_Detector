{
 "cells": [
  {
   "cell_type": "code",
   "execution_count": 3,
   "metadata": {
    "_cell_guid": "b1076dfc-b9ad-4769-8c92-a6c4dae69d19",
    "_uuid": "8f2839f25d086af736a60e9eeb907d3b93b6e0e5"
   },
   "outputs": [],
   "source": [
    "import pandas as pd \n",
    "import os\n",
    "import re\n",
    "import matplotlib.pyplot as plt\n",
    "from tensorflow.python.keras.preprocessing.text import Tokenizer\n",
    "from tensorflow.python.keras.preprocessing.sequence import pad_sequences\n",
    "from keras.models import Sequential\n",
    "from keras.layers import Dense, Embedding, GRU, LSTM, Bidirectional\n",
    "from keras.layers.embeddings import Embedding\n",
    "from keras.initializers import Constant\n",
    "from keras.callbacks import ModelCheckpoint\n",
    "from keras.models import load_model"
   ]
  },
  {
   "cell_type": "code",
   "execution_count": 4,
   "metadata": {
    "_cell_guid": "79c7e3d0-c299-4dcb-8224-4455121ee9b0",
    "_uuid": "d629ff2d2480ee46fbb7e2d37f6b5fab8052498a"
   },
   "outputs": [
    {
     "data": {
      "text/html": [
       "<div>\n",
       "<style scoped>\n",
       "    .dataframe tbody tr th:only-of-type {\n",
       "        vertical-align: middle;\n",
       "    }\n",
       "\n",
       "    .dataframe tbody tr th {\n",
       "        vertical-align: top;\n",
       "    }\n",
       "\n",
       "    .dataframe thead th {\n",
       "        text-align: right;\n",
       "    }\n",
       "</style>\n",
       "<table border=\"1\" class=\"dataframe\">\n",
       "  <thead>\n",
       "    <tr style=\"text-align: right;\">\n",
       "      <th></th>\n",
       "      <th>article_link</th>\n",
       "      <th>headline</th>\n",
       "      <th>is_sarcastic</th>\n",
       "    </tr>\n",
       "  </thead>\n",
       "  <tbody>\n",
       "    <tr>\n",
       "      <th>0</th>\n",
       "      <td>https://www.huffingtonpost.com/entry/versace-b...</td>\n",
       "      <td>former versace store clerk sues over secret 'b...</td>\n",
       "      <td>0</td>\n",
       "    </tr>\n",
       "    <tr>\n",
       "      <th>1</th>\n",
       "      <td>https://www.huffingtonpost.com/entry/roseanne-...</td>\n",
       "      <td>the 'roseanne' revival catches up to our thorn...</td>\n",
       "      <td>0</td>\n",
       "    </tr>\n",
       "    <tr>\n",
       "      <th>2</th>\n",
       "      <td>https://local.theonion.com/mom-starting-to-fea...</td>\n",
       "      <td>mom starting to fear son's web series closest ...</td>\n",
       "      <td>1</td>\n",
       "    </tr>\n",
       "    <tr>\n",
       "      <th>3</th>\n",
       "      <td>https://politics.theonion.com/boehner-just-wan...</td>\n",
       "      <td>boehner just wants wife to listen, not come up...</td>\n",
       "      <td>1</td>\n",
       "    </tr>\n",
       "    <tr>\n",
       "      <th>4</th>\n",
       "      <td>https://www.huffingtonpost.com/entry/jk-rowlin...</td>\n",
       "      <td>j.k. rowling wishes snape happy birthday in th...</td>\n",
       "      <td>0</td>\n",
       "    </tr>\n",
       "  </tbody>\n",
       "</table>\n",
       "</div>"
      ],
      "text/plain": [
       "                                        article_link  \\\n",
       "0  https://www.huffingtonpost.com/entry/versace-b...   \n",
       "1  https://www.huffingtonpost.com/entry/roseanne-...   \n",
       "2  https://local.theonion.com/mom-starting-to-fea...   \n",
       "3  https://politics.theonion.com/boehner-just-wan...   \n",
       "4  https://www.huffingtonpost.com/entry/jk-rowlin...   \n",
       "\n",
       "                                            headline  is_sarcastic  \n",
       "0  former versace store clerk sues over secret 'b...             0  \n",
       "1  the 'roseanne' revival catches up to our thorn...             0  \n",
       "2  mom starting to fear son's web series closest ...             1  \n",
       "3  boehner just wants wife to listen, not come up...             1  \n",
       "4  j.k. rowling wishes snape happy birthday in th...             0  "
      ]
     },
     "execution_count": 4,
     "metadata": {},
     "output_type": "execute_result"
    }
   ],
   "source": [
    "data_1 = pd.read_json(\"../input/news-headlines-dataset-for-sarcasm-detection/Sarcasm_Headlines_Dataset.json\", lines=True)\n",
    "data_2 = pd.read_json(\"../input/news-headlines-dataset-for-sarcasm-detection/Sarcasm_Headlines_Dataset_v2.json\", lines=True)\n",
    "data =  pd.concat([data_1, data_2])"
   ]
  },
  {
   "cell_type": "code",
   "execution_count": 9,
   "metadata": {},
   "outputs": [],
   "source": [
    "def clean_text(text):\n",
    "    text = text.lower()\n",
    "    \n",
    "    pattern = re.compile('http[s]?://(?:[a-zA-Z]|[0-9]|[$-_@.&+]|[!*\\(\\),]|(?:%[0-9a-fA-F][0-9a-fA-F]))+')\n",
    "    text = pattern.sub('', text)\n",
    "    text = \" \".join(filter(lambda x:x[0]!='@', text.split()))\n",
    "    emoji = re.compile(\"[\"\n",
    "                           u\"\\U0001F600-\\U0001FFFF\" \n",
    "                           u\"\\U0001F300-\\U0001F5FF\"  \n",
    "                           u\"\\U0001F680-\\U0001F6FF\"\n",
    "                           u\"\\U0001F1E0-\\U0001F1FF\" \n",
    "                           u\"\\U00002702-\\U000027B0\"\n",
    "                           u\"\\U000024C2-\\U0001F251\"\n",
    "                           \"]+\", flags=re.UNICODE)\n",
    "    \n",
    "    text = emoji.sub(r'', text)\n",
    "    text = text.lower()\n",
    "    text = re.sub(r\"i'm\", \"i am\", text)\n",
    "    text = re.sub(r\"he's\", \"he is\", text)\n",
    "    text = re.sub(r\"she's\", \"she is\", text)\n",
    "    text = re.sub(r\"that's\", \"that is\", text)        \n",
    "    text = re.sub(r\"what's\", \"what is\", text)\n",
    "    text = re.sub(r\"where's\", \"where is\", text) \n",
    "    text = re.sub(r\"\\'ll\", \" will\", text)  \n",
    "    text = re.sub(r\"\\'ve\", \" have\", text)  \n",
    "    text = re.sub(r\"\\'re\", \" are\", text)\n",
    "    text = re.sub(r\"\\'d\", \" would\", text)\n",
    "    text = re.sub(r\"\\'ve\", \" have\", text)\n",
    "    text = re.sub(r\"won't\", \"will not\", text)\n",
    "    text = re.sub(r\"don't\", \"do not\", text)\n",
    "    text = re.sub(r\"did't\", \"did not\", text)\n",
    "    text = re.sub(r\"can't\", \"can not\", text)\n",
    "    text = re.sub(r\"it's\", \"it is\", text)\n",
    "    text = re.sub(r\"couldn't\", \"could not\", text)\n",
    "    text = re.sub(r\"have't\", \"have not\", text)\n",
    "    text = re.sub(r\"shouldn't\", \"should not\", text)\n",
    "    text = re.sub(r\"ain't\", \"am not\", text)\n",
    "    text = re.sub(r\"rofl\", \"rolling on the floor laughing\", text)\n",
    "    text = re.sub(r\"mustn't\", \"must not\", text)\n",
    "    text = re.sub(r\"[,.\\\"\\'!@#$%^&*(){}?/;`~:<>+=-]\", \"\", text)\n",
    "    return text"
   ]
  },
  {
   "cell_type": "code",
   "execution_count": 10,
   "metadata": {},
   "outputs": [],
   "source": [
    "import nltk\n",
    "import string\n",
    "from nltk.tokenize import word_tokenize\n",
    "from nltk.corpus import stopwords\n",
    "\n",
    "def CleanTokenize(df):\n",
    "    head_lines = list()\n",
    "    lines = df[\"headline\"].values.tolist()\n",
    "\n",
    "    for line in lines:\n",
    "        line = clean_text(line)\n",
    "        # tokenize the text\n",
    "        tokens = word_tokenize(line)\n",
    "        table = str.maketrans('', '', string.punctuation)\n",
    "        stripped = [w.translate(table) for w in tokens]\n",
    "        words = [word for word in stripped if word.isalpha()]\n",
    "        head_lines.append(words)\n",
    "    return head_lines\n",
    "\n",
    "head_lines = CleanTokenize(data)"
   ]
  },
  {
   "cell_type": "code",
   "execution_count": 11,
   "metadata": {},
   "outputs": [
    {
     "name": "stdout",
     "output_type": "stream",
     "text": [
      "unique tokens -  28790\n",
      "vocab size - 28791\n"
     ]
    }
   ],
   "source": [
    "import numpy as np\n",
    "\n",
    "max_length = 25\n",
    "validation_split = 0.2\n",
    "tokenizer_obj = Tokenizer()\n",
    "tokenizer_obj.fit_on_texts(head_lines)\n",
    "sequences = tokenizer_obj.texts_to_sequences(head_lines)\n",
    "\n",
    "word_index = tokenizer_obj.word_index\n",
    "print(\"unique tokens - \",len(word_index))\n",
    "vocab_size = len(tokenizer_obj.word_index) + 1\n",
    "print('vocab size -', vocab_size)\n",
    "\n",
    "lines_pad = pad_sequences(sequences, maxlen=max_length, padding='post')\n",
    "sentiment =  data['is_sarcastic'].values\n",
    "\n",
    "indices = np.arange(lines_pad.shape[0])\n",
    "np.random.shuffle(indices)\n",
    "lines_pad = lines_pad[indices]\n",
    "sentiment = sentiment[indices]\n",
    "\n",
    "num_validation_samples = int(validation_split * lines_pad.shape[0])\n",
    "\n",
    "X_train_pad = lines_pad[:-num_validation_samples]\n",
    "y_train = sentiment[:-num_validation_samples]\n",
    "X_test_pad = lines_pad[-num_validation_samples:]\n",
    "y_test = sentiment[-num_validation_samples:]"
   ]
  },
  {
   "cell_type": "code",
   "execution_count": 12,
   "metadata": {},
   "outputs": [
    {
     "name": "stdout",
     "output_type": "stream",
     "text": [
      "Found 1193514 word vectors.\n"
     ]
    }
   ],
   "source": [
    "embeddings_index = {}\n",
    "embedding_dim = 100\n",
    "f = open('../input/glovetwitter27b100dtxt/glove.twitter.27B.100d.txt', encoding = \"utf-8\")\n",
    "for line in f:\n",
    "    values = line.split()\n",
    "    word = values[0]\n",
    "    coefs = np.asarray(values[1:], dtype='float32')\n",
    "    embeddings_index[word] = coefs\n",
    "f.close()\n",
    "\n",
    "print('Found %s word vectors.' % len(embeddings_index))"
   ]
  },
  {
   "cell_type": "code",
   "execution_count": 13,
   "metadata": {},
   "outputs": [
    {
     "name": "stdout",
     "output_type": "stream",
     "text": [
      "24888\n"
     ]
    }
   ],
   "source": [
    "embedding_matrix = np.zeros((len(word_index) + 1, embedding_dim))\n",
    "c = 0\n",
    "for word, i in word_index.items():\n",
    "    embedding_vector = embeddings_index.get(word)\n",
    "    if embedding_vector is not None:\n",
    "        c+=1\n",
    "        embedding_matrix[i] = embedding_vector\n",
    "print(c)"
   ]
  },
  {
   "cell_type": "code",
   "execution_count": 14,
   "metadata": {},
   "outputs": [],
   "source": [
    "embedding_layer = Embedding(len(word_index) + 1,\n",
    "                            embedding_dim,\n",
    "                            weights=[embedding_matrix],\n",
    "                            input_length=max_length,\n",
    "                            trainable=False)"
   ]
  },
  {
   "cell_type": "code",
   "execution_count": 15,
   "metadata": {},
   "outputs": [
    {
     "name": "stdout",
     "output_type": "stream",
     "text": [
      "Summary of the built model...\n",
      "Model: \"sequential\"\n",
      "_________________________________________________________________\n",
      "Layer (type)                 Output Shape              Param #   \n",
      "=================================================================\n",
      "embedding (Embedding)        (None, 25, 100)           2879100   \n",
      "_________________________________________________________________\n",
      "lstm (LSTM)                  (None, 128)               117248    \n",
      "_________________________________________________________________\n",
      "dense (Dense)                (None, 1)                 129       \n",
      "=================================================================\n",
      "Total params: 2,996,477\n",
      "Trainable params: 117,377\n",
      "Non-trainable params: 2,879,100\n",
      "_________________________________________________________________\n",
      "None\n"
     ]
    }
   ],
   "source": [
    "model = Sequential()\n",
    "model.add(embedding_layer)\n",
    "model.add(LSTM(128, dropout=0.2, recurrent_dropout=0.25))\n",
    "model.add(Dense(1, activation='sigmoid'))\n",
    "\n",
    "model.compile(loss='binary_crossentropy', optimizer='adam', metrics=['acc'])\n",
    "\n",
    "print('Summary of the built model...')\n",
    "print(model.summary())"
   ]
  },
  {
   "cell_type": "code",
   "execution_count": 16,
   "metadata": {},
   "outputs": [
    {
     "name": "stdout",
     "output_type": "stream",
     "text": [
      "Epoch 1/40\n",
      "1384/1384 - 55s - loss: 0.4329 - acc: 0.7981 - val_loss: 0.3499 - val_acc: 0.8508\n",
      "Epoch 2/40\n",
      "1384/1384 - 54s - loss: 0.3275 - acc: 0.8596 - val_loss: 0.2916 - val_acc: 0.8767\n",
      "Epoch 3/40\n",
      "1384/1384 - 54s - loss: 0.2821 - acc: 0.8825 - val_loss: 0.2746 - val_acc: 0.8876\n",
      "Epoch 4/40\n",
      "1384/1384 - 55s - loss: 0.2508 - acc: 0.8963 - val_loss: 0.2628 - val_acc: 0.8911\n",
      "Epoch 5/40\n",
      "1384/1384 - 54s - loss: 0.2153 - acc: 0.9118 - val_loss: 0.2236 - val_acc: 0.9112\n",
      "Epoch 6/40\n",
      "1384/1384 - 54s - loss: 0.1922 - acc: 0.9244 - val_loss: 0.2105 - val_acc: 0.9176\n",
      "Epoch 7/40\n",
      "1384/1384 - 54s - loss: 0.1717 - acc: 0.9323 - val_loss: 0.2048 - val_acc: 0.9213\n",
      "Epoch 8/40\n",
      "1384/1384 - 53s - loss: 0.1574 - acc: 0.9388 - val_loss: 0.1800 - val_acc: 0.9345\n",
      "Epoch 9/40\n",
      "1384/1384 - 53s - loss: 0.1405 - acc: 0.9455 - val_loss: 0.1635 - val_acc: 0.9404\n",
      "Epoch 10/40\n",
      "1384/1384 - 55s - loss: 0.1267 - acc: 0.9514 - val_loss: 0.1870 - val_acc: 0.9385\n",
      "Epoch 11/40\n",
      "1384/1384 - 54s - loss: 0.1164 - acc: 0.9546 - val_loss: 0.1649 - val_acc: 0.9432\n",
      "Epoch 12/40\n",
      "1384/1384 - 54s - loss: 0.1070 - acc: 0.9594 - val_loss: 0.1446 - val_acc: 0.9507\n",
      "Epoch 13/40\n",
      "1384/1384 - 53s - loss: 0.1027 - acc: 0.9618 - val_loss: 0.1598 - val_acc: 0.9516\n",
      "Epoch 14/40\n",
      "1384/1384 - 56s - loss: 0.0950 - acc: 0.9655 - val_loss: 0.1391 - val_acc: 0.9565\n",
      "Epoch 15/40\n",
      "1384/1384 - 55s - loss: 0.0874 - acc: 0.9673 - val_loss: 0.1500 - val_acc: 0.9516\n",
      "Epoch 16/40\n",
      "1384/1384 - 55s - loss: 0.0825 - acc: 0.9700 - val_loss: 0.1252 - val_acc: 0.9618\n",
      "Epoch 17/40\n",
      "1384/1384 - 56s - loss: 0.0779 - acc: 0.9719 - val_loss: 0.1278 - val_acc: 0.9611\n",
      "Epoch 18/40\n",
      "1384/1384 - 56s - loss: 0.0737 - acc: 0.9730 - val_loss: 0.1200 - val_acc: 0.9642\n",
      "Epoch 19/40\n",
      "1384/1384 - 53s - loss: 0.0731 - acc: 0.9735 - val_loss: 0.1294 - val_acc: 0.9648\n",
      "Epoch 20/40\n",
      "1384/1384 - 53s - loss: 0.0682 - acc: 0.9752 - val_loss: 0.1329 - val_acc: 0.9651\n",
      "Epoch 21/40\n",
      "1384/1384 - 54s - loss: 0.0659 - acc: 0.9755 - val_loss: 0.1316 - val_acc: 0.9627\n",
      "Epoch 22/40\n",
      "1384/1384 - 55s - loss: 0.0640 - acc: 0.9760 - val_loss: 0.1386 - val_acc: 0.9634\n",
      "Epoch 23/40\n",
      "1384/1384 - 54s - loss: 0.0624 - acc: 0.9781 - val_loss: 0.1198 - val_acc: 0.9688\n",
      "Epoch 24/40\n",
      "1384/1384 - 53s - loss: 0.0602 - acc: 0.9781 - val_loss: 0.1269 - val_acc: 0.9670\n",
      "Epoch 25/40\n",
      "1384/1384 - 54s - loss: 0.0580 - acc: 0.9789 - val_loss: 0.1218 - val_acc: 0.9697\n",
      "Epoch 26/40\n",
      "1384/1384 - 54s - loss: 0.0580 - acc: 0.9789 - val_loss: 0.1236 - val_acc: 0.9667\n",
      "Epoch 27/40\n",
      "1384/1384 - 54s - loss: 0.0548 - acc: 0.9804 - val_loss: 0.1314 - val_acc: 0.9707\n",
      "Epoch 28/40\n",
      "1384/1384 - 54s - loss: 0.0522 - acc: 0.9810 - val_loss: 0.1212 - val_acc: 0.9708\n",
      "Epoch 29/40\n",
      "1384/1384 - 60s - loss: 0.0515 - acc: 0.9814 - val_loss: 0.1230 - val_acc: 0.9712\n",
      "Epoch 30/40\n",
      "1384/1384 - 53s - loss: 0.0501 - acc: 0.9816 - val_loss: 0.1284 - val_acc: 0.9699\n",
      "Epoch 31/40\n",
      "1384/1384 - 54s - loss: 0.0517 - acc: 0.9817 - val_loss: 0.1265 - val_acc: 0.9720\n",
      "Epoch 32/40\n",
      "1384/1384 - 54s - loss: 0.0503 - acc: 0.9820 - val_loss: 0.1258 - val_acc: 0.9712\n",
      "Epoch 33/40\n",
      "1384/1384 - 54s - loss: 0.0473 - acc: 0.9826 - val_loss: 0.1234 - val_acc: 0.9716\n",
      "Epoch 34/40\n",
      "1384/1384 - 54s - loss: 0.0446 - acc: 0.9840 - val_loss: 0.1400 - val_acc: 0.9714\n",
      "Epoch 35/40\n",
      "1384/1384 - 53s - loss: 0.0453 - acc: 0.9833 - val_loss: 0.1184 - val_acc: 0.9715\n",
      "Epoch 36/40\n",
      "1384/1384 - 53s - loss: 0.0472 - acc: 0.9837 - val_loss: 0.1220 - val_acc: 0.9723\n",
      "Epoch 37/40\n",
      "1384/1384 - 53s - loss: 0.0454 - acc: 0.9838 - val_loss: 0.1264 - val_acc: 0.9717\n",
      "Epoch 38/40\n",
      "1384/1384 - 53s - loss: 0.0451 - acc: 0.9840 - val_loss: 0.1225 - val_acc: 0.9733\n",
      "Epoch 39/40\n",
      "1384/1384 - 53s - loss: 0.0446 - acc: 0.9840 - val_loss: 0.1171 - val_acc: 0.9722\n",
      "Epoch 40/40\n",
      "1384/1384 - 53s - loss: 0.0417 - acc: 0.9852 - val_loss: 0.1193 - val_acc: 0.9697\n"
     ]
    }
   ],
   "source": [
    "history = model.fit(X_train_pad, y_train, batch_size=32, epochs = 40, validation_data=(X_test_pad, y_test), verbose=2)"
   ]
  },
  {
   "cell_type": "code",
   "execution_count": 17,
   "metadata": {},
   "outputs": [
    {
     "data": {
      "image/png": "[encoded data removed]",
      "text/plain": [
       "<Figure size 432x288 with 1 Axes>"
      ]
     },
     "metadata": {
      "needs_background": "light"
     },
     "output_type": "display_data"
    },
    {
     "data": {
      "image/png": "[encoded data removed]",
      "text/plain": [
       "<Figure size 432x288 with 1 Axes>"
      ]
     },
     "metadata": {
      "needs_background": "light"
     },
     "output_type": "display_data"
    }
   ],
   "source": [
    "acc = history.history['acc']\n",
    "val_acc = history.history['val_acc']\n",
    "loss = history.history['loss']\n",
    "val_loss = history.history['val_loss']\n",
    "\n",
    "epochs = range(1, len(acc)+1)\n",
    "\n",
    "plt.plot(epochs, acc, 'g', label='Training accuracy')\n",
    "plt.plot(epochs, val_acc, 'r', label='Validation accuracy')\n",
    "plt.title('Training and validation accuracy')\n",
    "plt.legend()\n",
    "\n",
    "plt.figure()\n",
    "\n",
    "plt.plot(epochs, loss, 'g', label='Training loss')\n",
    "plt.plot(epochs, val_loss, 'r', label='Validation loss')\n",
    "plt.title('Training and validation loss')\n",
    "plt.legend()\n",
    "\n",
    "plt.show()"
   ]
  },
  {
   "cell_type": "code",
   "execution_count": 18,
   "metadata": {},
   "outputs": [],
   "source": [
    "def predict_sarcasm(s):\n",
    "    x_final = pd.DataFrame({\"headline\":[s]})\n",
    "    test_lines = CleanTokenize(x_final)\n",
    "    test_sequences = tokenizer_obj.texts_to_sequences(test_lines)\n",
    "    test_review_pad = pad_sequences(test_sequences, maxlen=max_length, padding='post')\n",
    "    pred = model.predict(test_review_pad)\n",
    "    pred*=100\n",
    "    if pred[0][0]>=50: return \"It's a sarcasm!\" \n",
    "    else: return \"It's not a sarcasm.\"\n"
   ]
  },
  {
   "cell_type": "code",
   "execution_count": 20,
   "metadata": {},
   "outputs": [
    {
     "data": {
      "text/plain": [
       "\"It's not a sarcasm.\""
      ]
     },
     "execution_count": 20,
     "metadata": {},
     "output_type": "execute_result"
    }
   ],
   "source": [
    "predict_sarcasm(\"his name is aman. he is a good person\")"
   ]
  }
 ],
 "metadata": {
  "kernelspec": {
   "display_name": "Python 3",
   "language": "python",
   "name": "python3"
  },
  "language_info": {
   "codemirror_mode": {
    "name": "ipython",
    "version": 3
   },
   "file_extension": ".py",
   "mimetype": "text/x-python",
   "name": "python",
   "nbconvert_exporter": "python",
   "pygments_lexer": "ipython3",
   "version": "3.7.7"
  }
 },
 "nbformat": 4,
 "nbformat_minor": 4
}
