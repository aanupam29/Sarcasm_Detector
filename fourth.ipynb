{
 "cells": [
  {
   "cell_type": "code",
   "execution_count": 3,
   "metadata": {
    "_cell_guid": "b1076dfc-b9ad-4769-8c92-a6c4dae69d19",
    "_uuid": "8f2839f25d086af736a60e9eeb907d3b93b6e0e5"
   },
   "outputs": [],
   "source": [
    "import pandas as pd \n",
    "import os\n",
    "import re\n",
    "import matplotlib.pyplot as plt\n",
    "from tensorflow.python.keras.preprocessing.text import Tokenizer\n",
    "from tensorflow.python.keras.preprocessing.sequence import pad_sequences\n",
    "from keras.models import Sequential\n",
    "from keras.layers import Dense, Embedding, GRU, LSTM, Bidirectional\n",
    "from keras.layers.embeddings import Embedding\n",
    "from keras.initializers import Constant\n",
    "from keras.callbacks import ModelCheckpoint\n",
    "from keras.models import load_model"
   ]
  },
  {
   "cell_type": "code",
   "execution_count": 4,
   "metadata": {
    "_cell_guid": "79c7e3d0-c299-4dcb-8224-4455121ee9b0",
    "_uuid": "d629ff2d2480ee46fbb7e2d37f6b5fab8052498a"
   },
   "outputs": [
    {
     "data": {
      "text/html": [
       "<div>\n",
       "<style scoped>\n",
       "    .dataframe tbody tr th:only-of-type {\n",
       "        vertical-align: middle;\n",
       "    }\n",
       "\n",
       "    .dataframe tbody tr th {\n",
       "        vertical-align: top;\n",
       "    }\n",
       "\n",
       "    .dataframe thead th {\n",
       "        text-align: right;\n",
       "    }\n",
       "</style>\n",
       "<table border=\"1\" class=\"dataframe\">\n",
       "  <thead>\n",
       "    <tr style=\"text-align: right;\">\n",
       "      <th></th>\n",
       "      <th>article_link</th>\n",
       "      <th>headline</th>\n",
       "      <th>is_sarcastic</th>\n",
       "    </tr>\n",
       "  </thead>\n",
       "  <tbody>\n",
       "    <tr>\n",
       "      <th>0</th>\n",
       "      <td>https://www.huffingtonpost.com/entry/versace-b...</td>\n",
       "      <td>former versace store clerk sues over secret 'b...</td>\n",
       "      <td>0</td>\n",
       "    </tr>\n",
       "    <tr>\n",
       "      <th>1</th>\n",
       "      <td>https://www.huffingtonpost.com/entry/roseanne-...</td>\n",
       "      <td>the 'roseanne' revival catches up to our thorn...</td>\n",
       "      <td>0</td>\n",
       "    </tr>\n",
       "    <tr>\n",
       "      <th>2</th>\n",
       "      <td>https://local.theonion.com/mom-starting-to-fea...</td>\n",
       "      <td>mom starting to fear son's web series closest ...</td>\n",
       "      <td>1</td>\n",
       "    </tr>\n",
       "    <tr>\n",
       "      <th>3</th>\n",
       "      <td>https://politics.theonion.com/boehner-just-wan...</td>\n",
       "      <td>boehner just wants wife to listen, not come up...</td>\n",
       "      <td>1</td>\n",
       "    </tr>\n",
       "    <tr>\n",
       "      <th>4</th>\n",
       "      <td>https://www.huffingtonpost.com/entry/jk-rowlin...</td>\n",
       "      <td>j.k. rowling wishes snape happy birthday in th...</td>\n",
       "      <td>0</td>\n",
       "    </tr>\n",
       "  </tbody>\n",
       "</table>\n",
       "</div>"
      ],
      "text/plain": [
       "                                        article_link  \\\n",
       "0  https://www.huffingtonpost.com/entry/versace-b...   \n",
       "1  https://www.huffingtonpost.com/entry/roseanne-...   \n",
       "2  https://local.theonion.com/mom-starting-to-fea...   \n",
       "3  https://politics.theonion.com/boehner-just-wan...   \n",
       "4  https://www.huffingtonpost.com/entry/jk-rowlin...   \n",
       "\n",
       "                                            headline  is_sarcastic  \n",
       "0  former versace store clerk sues over secret 'b...             0  \n",
       "1  the 'roseanne' revival catches up to our thorn...             0  \n",
       "2  mom starting to fear son's web series closest ...             1  \n",
       "3  boehner just wants wife to listen, not come up...             1  \n",
       "4  j.k. rowling wishes snape happy birthday in th...             0  "
      ]
     },
     "execution_count": 4,
     "metadata": {},
     "output_type": "execute_result"
    }
   ],
   "source": [
    "data_1 = pd.read_json(\"../input/news-headlines-dataset-for-sarcasm-detection/Sarcasm_Headlines_Dataset.json\", lines=True)\n",
    "data_2 = pd.read_json(\"../input/news-headlines-dataset-for-sarcasm-detection/Sarcasm_Headlines_Dataset_v2.json\", lines=True)\n",
    "data =  pd.concat([data_1, data_2])"
   ]
  },
  {
   "cell_type": "code",
   "execution_count": 9,
   "metadata": {},
   "outputs": [],
   "source": [
    "def clean_text(text):\n",
    "    text = text.lower()\n",
    "    \n",
    "    pattern = re.compile('http[s]?://(?:[a-zA-Z]|[0-9]|[$-_@.&+]|[!*\\(\\),]|(?:%[0-9a-fA-F][0-9a-fA-F]))+')\n",
    "    text = pattern.sub('', text)\n",
    "    text = \" \".join(filter(lambda x:x[0]!='@', text.split()))\n",
    "    emoji = re.compile(\"[\"\n",
    "                           u\"\\U0001F600-\\U0001FFFF\" \n",
    "                           u\"\\U0001F300-\\U0001F5FF\"  \n",
    "                           u\"\\U0001F680-\\U0001F6FF\"\n",
    "                           u\"\\U0001F1E0-\\U0001F1FF\" \n",
    "                           u\"\\U00002702-\\U000027B0\"\n",
    "                           u\"\\U000024C2-\\U0001F251\"\n",
    "                           \"]+\", flags=re.UNICODE)\n",
    "    \n",
    "    text = emoji.sub(r'', text)\n",
    "    text = text.lower()\n",
    "    text = re.sub(r\"i'm\", \"i am\", text)\n",
    "    text = re.sub(r\"he's\", \"he is\", text)\n",
    "    text = re.sub(r\"she's\", \"she is\", text)\n",
    "    text = re.sub(r\"that's\", \"that is\", text)        \n",
    "    text = re.sub(r\"what's\", \"what is\", text)\n",
    "    text = re.sub(r\"where's\", \"where is\", text) \n",
    "    text = re.sub(r\"\\'ll\", \" will\", text)  \n",
    "    text = re.sub(r\"\\'ve\", \" have\", text)  \n",
    "    text = re.sub(r\"\\'re\", \" are\", text)\n",
    "    text = re.sub(r\"\\'d\", \" would\", text)\n",
    "    text = re.sub(r\"\\'ve\", \" have\", text)\n",
    "    text = re.sub(r\"won't\", \"will not\", text)\n",
    "    text = re.sub(r\"don't\", \"do not\", text)\n",
    "    text = re.sub(r\"did't\", \"did not\", text)\n",
    "    text = re.sub(r\"can't\", \"can not\", text)\n",
    "    text = re.sub(r\"it's\", \"it is\", text)\n",
    "    text = re.sub(r\"couldn't\", \"could not\", text)\n",
    "    text = re.sub(r\"have't\", \"have not\", text)\n",
    "    text = re.sub(r\"shouldn't\", \"should not\", text)\n",
    "    text = re.sub(r\"ain't\", \"am not\", text)\n",
    "    text = re.sub(r\"rofl\", \"rolling on the floor laughing\", text)\n",
    "    text = re.sub(r\"mustn't\", \"must not\", text)\n",
    "    text = re.sub(r\"[,.\\\"\\'!@#$%^&*(){}?/;`~:<>+=-]\", \"\", text)\n",
    "    return text"
   ]
  },
  {
   "cell_type": "code",
   "execution_count": 10,
   "metadata": {},
   "outputs": [],
   "source": [
    "import nltk\n",
    "import string\n",
    "from nltk.tokenize import word_tokenize\n",
    "from nltk.corpus import stopwords\n",
    "\n",
    "def CleanTokenize(df):\n",
    "    head_lines = list()\n",
    "    lines = df[\"headline\"].values.tolist()\n",
    "\n",
    "    for line in lines:\n",
    "        line = clean_text(line)\n",
    "        # tokenize the text\n",
    "        tokens = word_tokenize(line)\n",
    "        table = str.maketrans('', '', string.punctuation)\n",
    "        stripped = [w.translate(table) for w in tokens]\n",
    "        words = [word for word in stripped if word.isalpha()]\n",
    "        head_lines.append(words)\n",
    "    return head_lines\n",
    "\n",
    "head_lines = CleanTokenize(data)"
   ]
  },
  {
   "cell_type": "code",
   "execution_count": 11,
   "metadata": {},
   "outputs": [
    {
     "name": "stdout",
     "output_type": "stream",
     "text": [
      "unique tokens -  28790\n",
      "vocab size - 28791\n"
     ]
    }
   ],
   "source": [
    "import numpy as np\n",
    "\n",
    "max_length = 25\n",
    "validation_split = 0.2\n",
    "tokenizer_obj = Tokenizer()\n",
    "tokenizer_obj.fit_on_texts(head_lines)\n",
    "sequences = tokenizer_obj.texts_to_sequences(head_lines)\n",
    "\n",
    "word_index = tokenizer_obj.word_index\n",
    "print(\"unique tokens - \",len(word_index))\n",
    "vocab_size = len(tokenizer_obj.word_index) + 1\n",
    "print('vocab size -', vocab_size)\n",
    "\n",
    "lines_pad = pad_sequences(sequences, maxlen=max_length, padding='post')\n",
    "sentiment =  data['is_sarcastic'].values\n",
    "\n",
    "indices = np.arange(lines_pad.shape[0])\n",
    "np.random.shuffle(indices)\n",
    "lines_pad = lines_pad[indices]\n",
    "sentiment = sentiment[indices]\n",
    "\n",
    "num_validation_samples = int(validation_split * lines_pad.shape[0])\n",
    "\n",
    "X_train_pad = lines_pad[:-num_validation_samples]\n",
    "y_train = sentiment[:-num_validation_samples]\n",
    "X_test_pad = lines_pad[-num_validation_samples:]\n",
    "y_test = sentiment[-num_validation_samples:]"
   ]
  },
  {
   "cell_type": "code",
   "execution_count": 12,
   "metadata": {},
   "outputs": [
    {
     "name": "stdout",
     "output_type": "stream",
     "text": [
      "Found 1193514 word vectors.\n"
     ]
    }
   ],
   "source": [
    "embeddings_index = {}\n",
    "embedding_dim = 100\n",
    "f = open('../input/glovetwitter27b100dtxt/glove.twitter.27B.100d.txt', encoding = \"utf-8\")\n",
    "for line in f:\n",
    "    values = line.split()\n",
    "    word = values[0]\n",
    "    coefs = np.asarray(values[1:], dtype='float32')\n",
    "    embeddings_index[word] = coefs\n",
    "f.close()\n",
    "\n",
    "print('Found %s word vectors.' % len(embeddings_index))"
   ]
  },
  {
   "cell_type": "code",
   "execution_count": 13,
   "metadata": {},
   "outputs": [
    {
     "name": "stdout",
     "output_type": "stream",
     "text": [
      "24888\n"
     ]
    }
   ],
   "source": [
    "embedding_matrix = np.zeros((len(word_index) + 1, embedding_dim))\n",
    "c = 0\n",
    "for word, i in word_index.items():\n",
    "    embedding_vector = embeddings_index.get(word)\n",
    "    if embedding_vector is not None:\n",
    "        c+=1\n",
    "        embedding_matrix[i] = embedding_vector\n",
    "print(c)"
   ]
  },
  {
   "cell_type": "code",
   "execution_count": 14,
   "metadata": {},
   "outputs": [],
   "source": [
    "embedding_layer = Embedding(len(word_index) + 1,\n",
    "                            embedding_dim,\n",
    "                            weights=[embedding_matrix],\n",
    "                            input_length=max_length,\n",
    "                            trainable=False)"
   ]
  },
  {
   "cell_type": "code",
   "execution_count": 23,
   "metadata": {},
   "outputs": [
    {
     "name": "stdout",
     "output_type": "stream",
     "text": [
      "Summary of the built model...\n",
      "Model: \"sequential_2\"\n",
      "_________________________________________________________________\n",
      "Layer (type)                 Output Shape              Param #   \n",
      "=================================================================\n",
      "embedding (Embedding)        (None, 25, 100)           2879100   \n",
      "_________________________________________________________________\n",
      "lstm_3 (LSTM)                (None, 128)               117248    \n",
      "_________________________________________________________________\n",
      "dense_1 (Dense)              (None, 1)                 129       \n",
      "=================================================================\n",
      "Total params: 2,996,477\n",
      "Trainable params: 117,377\n",
      "Non-trainable params: 2,879,100\n",
      "_________________________________________________________________\n",
      "None\n"
     ]
    }
   ],
   "source": [
    "model = Sequential()\n",
    "model.add(embedding_layer)\n",
    "model.add(LSTM(128, dropout=0.3, recurrent_dropout=0.25))\n",
    "model.add(Dense(1, activation='sigmoid'))\n",
    "\n",
    "model.compile(loss='binary_crossentropy', optimizer='adam', metrics=['acc'])\n",
    "\n",
    "print('Summary of the built model...')\n",
    "print(model.summary())"
   ]
  },
  {
   "cell_type": "code",
   "execution_count": 24,
   "metadata": {},
   "outputs": [
    {
     "name": "stdout",
     "output_type": "stream",
     "text": [
      "Epoch 1/40\n",
      "1384/1384 - 54s - loss: 0.4444 - acc: 0.7912 - val_loss: 0.3991 - val_acc: 0.8210\n",
      "Epoch 2/40\n",
      "1384/1384 - 53s - loss: 0.3415 - acc: 0.8510 - val_loss: 0.2954 - val_acc: 0.8713\n",
      "Epoch 3/40\n",
      "1384/1384 - 54s - loss: 0.2979 - acc: 0.8728 - val_loss: 0.2668 - val_acc: 0.8856\n",
      "Epoch 4/40\n",
      "1384/1384 - 54s - loss: 0.2680 - acc: 0.8876 - val_loss: 0.2520 - val_acc: 0.8943\n",
      "Epoch 5/40\n",
      "1384/1384 - 53s - loss: 0.2471 - acc: 0.8965 - val_loss: 0.2438 - val_acc: 0.9029\n",
      "Epoch 6/40\n",
      "1384/1384 - 53s - loss: 0.2245 - acc: 0.9073 - val_loss: 0.2195 - val_acc: 0.9141\n",
      "Epoch 7/40\n",
      "1384/1384 - 54s - loss: 0.2067 - acc: 0.9164 - val_loss: 0.2067 - val_acc: 0.9185\n",
      "Epoch 8/40\n",
      "1384/1384 - 53s - loss: 0.1932 - acc: 0.9208 - val_loss: 0.2010 - val_acc: 0.9181\n",
      "Epoch 9/40\n",
      "1384/1384 - 54s - loss: 0.1788 - acc: 0.9281 - val_loss: 0.1854 - val_acc: 0.9309\n",
      "Epoch 10/40\n",
      "1384/1384 - 53s - loss: 0.1684 - acc: 0.9329 - val_loss: 0.1718 - val_acc: 0.9355\n",
      "Epoch 11/40\n",
      "1384/1384 - 53s - loss: 0.1567 - acc: 0.9372 - val_loss: 0.1726 - val_acc: 0.9361\n",
      "Epoch 12/40\n",
      "1384/1384 - 53s - loss: 0.1480 - acc: 0.9419 - val_loss: 0.1832 - val_acc: 0.9279\n",
      "Epoch 13/40\n",
      "1384/1384 - 53s - loss: 0.1423 - acc: 0.9442 - val_loss: 0.1510 - val_acc: 0.9444\n",
      "Epoch 14/40\n",
      "1384/1384 - 53s - loss: 0.1323 - acc: 0.9475 - val_loss: 0.1398 - val_acc: 0.9490\n",
      "Epoch 15/40\n",
      "1384/1384 - 53s - loss: 0.1290 - acc: 0.9490 - val_loss: 0.1420 - val_acc: 0.9483\n",
      "Epoch 16/40\n",
      "1384/1384 - 53s - loss: 0.1245 - acc: 0.9509 - val_loss: 0.1354 - val_acc: 0.9542\n",
      "Epoch 17/40\n",
      "1384/1384 - 54s - loss: 0.1159 - acc: 0.9549 - val_loss: 0.1292 - val_acc: 0.9557\n",
      "Epoch 18/40\n",
      "1384/1384 - 53s - loss: 0.1169 - acc: 0.9550 - val_loss: 0.1292 - val_acc: 0.9570\n",
      "Epoch 19/40\n",
      "1384/1384 - 54s - loss: 0.1055 - acc: 0.9591 - val_loss: 0.1258 - val_acc: 0.9598\n",
      "Epoch 20/40\n",
      "1384/1384 - 55s - loss: 0.1062 - acc: 0.9590 - val_loss: 0.1219 - val_acc: 0.9596\n",
      "Epoch 21/40\n",
      "1384/1384 - 56s - loss: 0.0986 - acc: 0.9617 - val_loss: 0.1258 - val_acc: 0.9601\n",
      "Epoch 22/40\n",
      "1384/1384 - 60s - loss: 0.1019 - acc: 0.9612 - val_loss: 0.1185 - val_acc: 0.9610\n",
      "Epoch 23/40\n",
      "1384/1384 - 56s - loss: 0.0983 - acc: 0.9618 - val_loss: 0.1147 - val_acc: 0.9643\n",
      "Epoch 24/40\n",
      "1384/1384 - 56s - loss: 0.0930 - acc: 0.9643 - val_loss: 0.1163 - val_acc: 0.9648\n",
      "Epoch 25/40\n",
      "1384/1384 - 56s - loss: 0.0933 - acc: 0.9653 - val_loss: 0.1132 - val_acc: 0.9636\n",
      "Epoch 26/40\n",
      "1384/1384 - 55s - loss: 0.0898 - acc: 0.9657 - val_loss: 0.1213 - val_acc: 0.9630\n",
      "Epoch 27/40\n",
      "1384/1384 - 56s - loss: 0.0868 - acc: 0.9675 - val_loss: 0.1226 - val_acc: 0.9638\n",
      "Epoch 28/40\n",
      "1384/1384 - 55s - loss: 0.0906 - acc: 0.9656 - val_loss: 0.1114 - val_acc: 0.9668\n",
      "Epoch 29/40\n",
      "1384/1384 - 55s - loss: 0.0858 - acc: 0.9669 - val_loss: 0.1245 - val_acc: 0.9637\n",
      "Epoch 30/40\n",
      "1384/1384 - 56s - loss: 0.0837 - acc: 0.9692 - val_loss: 0.1306 - val_acc: 0.9651\n",
      "Epoch 31/40\n",
      "1384/1384 - 55s - loss: 0.0815 - acc: 0.9692 - val_loss: 0.1129 - val_acc: 0.9694\n",
      "Epoch 32/40\n",
      "1384/1384 - 56s - loss: 0.0819 - acc: 0.9690 - val_loss: 0.1039 - val_acc: 0.9695\n",
      "Epoch 33/40\n",
      "1384/1384 - 59s - loss: 0.0797 - acc: 0.9697 - val_loss: 0.1017 - val_acc: 0.9695\n",
      "Epoch 34/40\n",
      "1384/1384 - 55s - loss: 0.0811 - acc: 0.9690 - val_loss: 0.1092 - val_acc: 0.9685\n",
      "Epoch 35/40\n",
      "1384/1384 - 57s - loss: 0.0769 - acc: 0.9707 - val_loss: 0.1045 - val_acc: 0.9690\n",
      "Epoch 36/40\n",
      "1384/1384 - 55s - loss: 0.0773 - acc: 0.9706 - val_loss: 0.1114 - val_acc: 0.9686\n",
      "Epoch 37/40\n",
      "1384/1384 - 55s - loss: 0.0766 - acc: 0.9715 - val_loss: 0.1086 - val_acc: 0.9715\n",
      "Epoch 38/40\n",
      "1384/1384 - 54s - loss: 0.0776 - acc: 0.9717 - val_loss: 0.1055 - val_acc: 0.9698\n",
      "Epoch 39/40\n",
      "1384/1384 - 54s - loss: 0.0745 - acc: 0.9723 - val_loss: 0.0996 - val_acc: 0.9714\n",
      "Epoch 40/40\n",
      "1384/1384 - 54s - loss: 0.0736 - acc: 0.9729 - val_loss: 0.1043 - val_acc: 0.9717\n"
     ]
    }
   ],
   "source": [
    "history = model.fit(X_train_pad, y_train, batch_size=32, epochs = 40, validation_data=(X_test_pad, y_test), verbose=2)"
   ]
  },
  {
   "cell_type": "code",
   "execution_count": 25,
   "metadata": {},
   "outputs": [
    {
     "data": {
      "image/png": "[encoded data removed]",
      "text/plain": [
       "<Figure size 432x288 with 1 Axes>"
      ]
     },
     "metadata": {
      "needs_background": "light"
     },
     "output_type": "display_data"
    },
    {
     "data": {
      "image/png": "[encoded data removed]",
      "text/plain": [
       "<Figure size 432x288 with 1 Axes>"
      ]
     },
     "metadata": {
      "needs_background": "light"
     },
     "output_type": "display_data"
    }
   ],
   "source": [
    "acc = history.history['acc']\n",
    "val_acc = history.history['val_acc']\n",
    "loss = history.history['loss']\n",
    "val_loss = history.history['val_loss']\n",
    "\n",
    "epochs = range(1, len(acc)+1)\n",
    "\n",
    "plt.plot(epochs, acc, 'g', label='Training accuracy')\n",
    "plt.plot(epochs, val_acc, 'r', label='Validation accuracy')\n",
    "plt.title('Training and validation accuracy')\n",
    "plt.legend()\n",
    "\n",
    "plt.figure()\n",
    "\n",
    "plt.plot(epochs, loss, 'g', label='Training loss')\n",
    "plt.plot(epochs, val_loss, 'r', label='Validation loss')\n",
    "plt.title('Training and validation loss')\n",
    "plt.legend()\n",
    "\n",
    "plt.show()"
   ]
  },
  {
   "cell_type": "code",
   "execution_count": 26,
   "metadata": {},
   "outputs": [],
   "source": [
    "def predict_sarcasm(s):\n",
    "    x_final = pd.DataFrame({\"headline\":[s]})\n",
    "    test_lines = CleanTokenize(x_final)\n",
    "    test_sequences = tokenizer_obj.texts_to_sequences(test_lines)\n",
    "    test_review_pad = pad_sequences(test_sequences, maxlen=max_length, padding='post')\n",
    "    pred = model.predict(test_review_pad)\n",
    "    pred*=100\n",
    "    if pred[0][0]>=50: return \"It's a sarcasm!\" \n",
    "    else: return \"It's not a sarcasm.\"\n"
   ]
  },
  {
   "cell_type": "code",
   "execution_count": 21,
   "metadata": {},
   "outputs": [
    {
     "data": {
      "text/plain": [
       "\"It's not a sarcasm.\""
      ]
     },
     "execution_count": 21,
     "metadata": {},
     "output_type": "execute_result"
    }
   ],
   "source": [
    "predict_sarcasm(\"his name is aman. he is a good person\")"
   ]
  }
 ],
 "metadata": {
  "kernelspec": {
   "display_name": "Python 3",
   "language": "python",
   "name": "python3"
  },
  "language_info": {
   "codemirror_mode": {
    "name": "ipython",
    "version": 3
   },
   "file_extension": ".py",
   "mimetype": "text/x-python",
   "name": "python",
   "nbconvert_exporter": "python",
   "pygments_lexer": "ipython3",
   "version": "3.7.7"
  }
 },
 "nbformat": 4,
 "nbformat_minor": 4
}
