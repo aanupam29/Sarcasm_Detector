{
 "cells": [
  {
   "cell_type": "code",
   "execution_count": 29,
   "metadata": {
    "_cell_guid": "f332cdae-9e64-4b88-bfd9-14fd7f553f54",
    "_uuid": "b73a6801-6947-4e3c-9ecf-455c791fca23"
   },
   "outputs": [],
   "source": [
    "import pandas as pd \n",
    "import os\n",
    "import re\n",
    "import matplotlib.pyplot as plt\n",
    "from tensorflow.python.keras.preprocessing.text import Tokenizer\n",
    "from tensorflow.python.keras.preprocessing.sequence import pad_sequences\n",
    "from keras.models import Sequential\n",
    "from keras.layers import Dense, Embedding, GRU, LSTM, Bidirectional\n",
    "from keras.layers.embeddings import Embedding\n",
    "from keras.initializers import Constant\n",
    "from keras.callbacks import ModelCheckpoint\n",
    "from keras.models import load_model"
   ]
  },
  {
   "cell_type": "code",
   "execution_count": 30,
   "metadata": {
    "_cell_guid": "7646ae3a-9928-463e-bb23-9177c5cb6156",
    "_uuid": "cbbbbbbe-cc55-48c7-8c0a-b2a9ab5e113b"
   },
   "outputs": [],
   "source": [
    "data_1 = pd.read_json(\"../input/news-headlines-dataset-for-sarcasm-detection/Sarcasm_Headlines_Dataset.json\", lines=True)\n",
    "data_2 = pd.read_json(\"../input/news-headlines-dataset-for-sarcasm-detection/Sarcasm_Headlines_Dataset_v2.json\", lines=True)\n",
    "data =  pd.concat([data_1, data_2])"
   ]
  },
  {
   "cell_type": "code",
   "execution_count": null,
   "metadata": {
    "_cell_guid": "fcdb4e35-2d97-4d1c-866f-4816f774e302",
    "_uuid": "d6566932-a67d-4a4e-b4fb-2c0a77434770"
   },
   "outputs": [],
   "source": [
    "def clean_text(text):\n",
    "    text = text.lower()\n",
    "    \n",
    "    pattern = re.compile('http[s]?://(?:[a-zA-Z]|[0-9]|[$-_@.&+]|[!*\\(\\),]|(?:%[0-9a-fA-F][0-9a-fA-F]))+')\n",
    "    text = pattern.sub('', text)\n",
    "    text = \" \".join(filter(lambda x:x[0]!='@', text.split()))\n",
    "    emoji = re.compile(\"[\"\n",
    "                           u\"\\U0001F600-\\U0001FFFF\" \n",
    "                           u\"\\U0001F300-\\U0001F5FF\"  \n",
    "                           u\"\\U0001F680-\\U0001F6FF\"\n",
    "                           u\"\\U0001F1E0-\\U0001F1FF\" \n",
    "                           u\"\\U00002702-\\U000027B0\"\n",
    "                           u\"\\U000024C2-\\U0001F251\"\n",
    "                           \"]+\", flags=re.UNICODE)\n",
    "    \n",
    "    text = emoji.sub(r'', text)\n",
    "    text = text.lower()\n",
    "    text = re.sub(r\"i'm\", \"i am\", text)\n",
    "    text = re.sub(r\"he's\", \"he is\", text)\n",
    "    text = re.sub(r\"she's\", \"she is\", text)\n",
    "    text = re.sub(r\"that's\", \"that is\", text)        \n",
    "    text = re.sub(r\"what's\", \"what is\", text)\n",
    "    text = re.sub(r\"where's\", \"where is\", text) \n",
    "    text = re.sub(r\"\\'ll\", \" will\", text)  \n",
    "    text = re.sub(r\"\\'ve\", \" have\", text)  \n",
    "    text = re.sub(r\"\\'re\", \" are\", text)\n",
    "    text = re.sub(r\"\\'d\", \" would\", text)\n",
    "    text = re.sub(r\"\\'ve\", \" have\", text)\n",
    "    text = re.sub(r\"won't\", \"will not\", text)\n",
    "    text = re.sub(r\"don't\", \"do not\", text)\n",
    "    text = re.sub(r\"did't\", \"did not\", text)\n",
    "    text = re.sub(r\"can't\", \"can not\", text)\n",
    "    text = re.sub(r\"it's\", \"it is\", text)\n",
    "    text = re.sub(r\"couldn't\", \"could not\", text)\n",
    "    text = re.sub(r\"have't\", \"have not\", text)\n",
    "    text = re.sub(r\"shouldn't\", \"should not\", text)\n",
    "    text = re.sub(r\"ain't\", \"am not\", text)\n",
    "    text = re.sub(r\"rofl\", \"rolling on the floor laughing\", text)\n",
    "    text = re.sub(r\"lol\", \"laugh out loud\", text)\n",
    "    text = re.sub(r\"ttyl\", \"talk to you later\", text)\n",
    "    text = re.sub(r\"mustn't\", \"must not\", text)\n",
    "    text = re.sub(r\"[,.\\\"\\'!@#$%^&*(){}?/;`~:<>+=-]\", \"\", text)\n",
    "    return text"
   ]
  },
  {
   "cell_type": "code",
   "execution_count": null,
   "metadata": {
    "_cell_guid": "fe105abf-6d3a-4eb7-8038-2c04370361b8",
    "_uuid": "71d6a389-ae1f-4f22-9cfa-d0a63e699a76"
   },
   "outputs": [],
   "source": [
    "import nltk\n",
    "import string\n",
    "from nltk.tokenize import word_tokenize\n",
    "from nltk.corpus import stopwords\n",
    "\n",
    "def CleanTokenize(df):\n",
    "    head_lines = list()\n",
    "    lines = df[\"headline\"].values.tolist()\n",
    "\n",
    "    for line in lines:\n",
    "        line = clean_text(line)\n",
    "        # tokenize the text\n",
    "        tokens = word_tokenize(line)\n",
    "        table = str.maketrans('', '', string.punctuation)\n",
    "        stripped = [w.translate(table) for w in tokens]\n",
    "        words = [word for word in stripped if word.isalpha()]\n",
    "        head_lines.append(words)\n",
    "    return head_lines\n",
    "\n",
    "head_lines = CleanTokenize(data)"
   ]
  },
  {
   "cell_type": "code",
   "execution_count": null,
   "metadata": {
    "_cell_guid": "cae23d17-729f-4679-8810-5e6908dfa0dc",
    "_uuid": "df5b1946-82ed-49ef-b057-bf13c9316c79"
   },
   "outputs": [],
   "source": [
    "import numpy as np\n",
    "\n",
    "max_length = 25\n",
    "validation_split = 0.2\n",
    "tokenizer_obj = Tokenizer()\n",
    "tokenizer_obj.fit_on_texts(head_lines)\n",
    "sequences = tokenizer_obj.texts_to_sequences(head_lines)\n",
    "\n",
    "word_index = tokenizer_obj.word_index\n",
    "print(\"unique tokens - \",len(word_index))\n",
    "vocab_size = len(tokenizer_obj.word_index) + 1\n",
    "print('vocab size -', vocab_size)\n",
    "\n",
    "lines_pad = pad_sequences(sequences, maxlen=max_length, padding='post')\n",
    "sentiment =  data['is_sarcastic'].values\n",
    "\n",
    "indices = np.arange(lines_pad.shape[0])\n",
    "np.random.shuffle(indices)\n",
    "lines_pad = lines_pad[indices]\n",
    "sentiment = sentiment[indices]\n",
    "\n",
    "num_validation_samples = int(validation_split * lines_pad.shape[0])\n",
    "\n",
    "X_train_pad = lines_pad[:-num_validation_samples]\n",
    "y_train = sentiment[:-num_validation_samples]\n",
    "X_test_pad = lines_pad[-num_validation_samples:]\n",
    "y_test = sentiment[-num_validation_samples:]"
   ]
  },
  {
   "cell_type": "code",
   "execution_count": null,
   "metadata": {
    "_cell_guid": "95072768-5ea2-4a5b-bd85-112d5799fe57",
    "_uuid": "6f167275-efba-4454-be1b-97269d9a5400"
   },
   "outputs": [],
   "source": [
    "embeddings_index = {}\n",
    "embedding_dim = 100\n",
    "f = open('../input/glovetwitter27b100dtxt/glove.twitter.27B.100d.txt', encoding = \"utf-8\")\n",
    "for line in f:\n",
    "    values = line.split()\n",
    "    word = values[0]\n",
    "    coefs = np.asarray(values[1:], dtype='float32')\n",
    "    embeddings_index[word] = coefs\n",
    "f.close()\n",
    "\n",
    "print('Found %s word vectors.' % len(embeddings_index))"
   ]
  },
  {
   "cell_type": "code",
   "execution_count": null,
   "metadata": {
    "_cell_guid": "611c2abf-5e21-4c94-82b5-bcc65c18346f",
    "_uuid": "db741531-00b8-4f79-a8f9-3392e05446f5"
   },
   "outputs": [],
   "source": [
    "embedding_matrix = np.zeros((len(word_index) + 1, embedding_dim))\n",
    "c = 0\n",
    "for word, i in word_index.items():\n",
    "    embedding_vector = embeddings_index.get(word)\n",
    "    if embedding_vector is not None:\n",
    "        c+=1\n",
    "        embedding_matrix[i] = embedding_vector\n",
    "print(c)"
   ]
  },
  {
   "cell_type": "code",
   "execution_count": null,
   "metadata": {
    "_cell_guid": "114b70a3-20f7-44e3-9b92-699d802af22c",
    "_uuid": "61012956-e348-4901-ac80-c9822e370b2b"
   },
   "outputs": [],
   "source": [
    "embedding_layer = Embedding(len(word_index) + 1,\n",
    "                            embedding_dim,\n",
    "                            weights=[embedding_matrix],\n",
    "                            input_length=max_length,\n",
    "                            trainable=False)"
   ]
  },
  {
   "cell_type": "code",
   "execution_count": 40,
   "metadata": {
    "_cell_guid": "e48ec2fa-cafd-4fc6-9132-6345fdfe4e01",
    "_uuid": "b441ed9b-e33e-423d-8612-750e0fc0ac60"
   },
   "outputs": [
    {
     "name": "stdout",
     "output_type": "stream",
     "text": [
      "Summary of the built model...\n",
      "Model: \"sequential_7\"\n",
      "_________________________________________________________________\n",
      "Layer (type)                 Output Shape              Param #   \n",
      "=================================================================\n",
      "embedding (Embedding)        (None, 25, 100)           2879100   \n",
      "_________________________________________________________________\n",
      "lstm_8 (LSTM)                (None, 256)               365568    \n",
      "_________________________________________________________________\n",
      "dense_6 (Dense)              (None, 1)                 257       \n",
      "=================================================================\n",
      "Total params: 3,244,925\n",
      "Trainable params: 365,825\n",
      "Non-trainable params: 2,879,100\n",
      "_________________________________________________________________\n",
      "None\n"
     ]
    }
   ],
   "source": [
    "model = Sequential()\n",
    "model.add(embedding_layer)\n",
    "model.add(LSTM(256, dropout = 0.5, recurrent_dropout=0.25))\n",
    "model.add(Dense(1, activation='sigmoid'))\n",
    "\n",
    "model.compile(loss='binary_crossentropy', optimizer='adam', metrics=['acc'])\n",
    "\n",
    "print('Summary of the built model...')\n",
    "print(model.summary())"
   ]
  },
  {
   "cell_type": "code",
   "execution_count": 41,
   "metadata": {},
   "outputs": [
    {
     "name": "stdout",
     "output_type": "stream",
     "text": [
      "Epoch 1/40\n",
      "1384/1384 - 144s - loss: 0.4823 - acc: 0.7673 - val_loss: 0.3614 - val_acc: 0.8424\n",
      "Epoch 2/40\n",
      "1384/1384 - 136s - loss: 0.3731 - acc: 0.8349 - val_loss: 0.3182 - val_acc: 0.8540\n",
      "Epoch 3/40\n",
      "1384/1384 - 137s - loss: 0.3306 - acc: 0.8568 - val_loss: 0.2827 - val_acc: 0.8772\n",
      "Epoch 4/40\n",
      "1384/1384 - 138s - loss: 0.2983 - acc: 0.8711 - val_loss: 0.2674 - val_acc: 0.8917\n",
      "Epoch 5/40\n",
      "1384/1384 - 135s - loss: 0.2804 - acc: 0.8808 - val_loss: 0.2530 - val_acc: 0.8915\n",
      "Epoch 6/40\n",
      "1384/1384 - 139s - loss: 0.2584 - acc: 0.8905 - val_loss: 0.2315 - val_acc: 0.9069\n",
      "Epoch 7/40\n",
      "1384/1384 - 135s - loss: 0.2408 - acc: 0.8999 - val_loss: 0.2167 - val_acc: 0.9123\n",
      "Epoch 8/40\n",
      "1384/1384 - 135s - loss: 0.2251 - acc: 0.9066 - val_loss: 0.2100 - val_acc: 0.9161\n",
      "Epoch 9/40\n",
      "1384/1384 - 135s - loss: 0.2120 - acc: 0.9145 - val_loss: 0.1911 - val_acc: 0.9261\n",
      "Epoch 10/40\n",
      "1384/1384 - 136s - loss: 0.2009 - acc: 0.9157 - val_loss: 0.1908 - val_acc: 0.9208\n",
      "Epoch 11/40\n",
      "1384/1384 - 137s - loss: 0.1926 - acc: 0.9207 - val_loss: 0.1758 - val_acc: 0.9329\n",
      "Epoch 12/40\n",
      "1384/1384 - 136s - loss: 0.1786 - acc: 0.9275 - val_loss: 0.1783 - val_acc: 0.9331\n",
      "Epoch 13/40\n",
      "1384/1384 - 136s - loss: 0.1701 - acc: 0.9321 - val_loss: 0.1688 - val_acc: 0.9408\n",
      "Epoch 14/40\n",
      "1384/1384 - 142s - loss: 0.1654 - acc: 0.9333 - val_loss: 0.1552 - val_acc: 0.9419\n",
      "Epoch 15/40\n",
      "1384/1384 - 137s - loss: 0.1610 - acc: 0.9355 - val_loss: 0.1559 - val_acc: 0.9430\n",
      "Epoch 16/40\n",
      "1384/1384 - 135s - loss: 0.1552 - acc: 0.9377 - val_loss: 0.1549 - val_acc: 0.9441\n",
      "Epoch 17/40\n",
      "1384/1384 - 134s - loss: 0.1476 - acc: 0.9412 - val_loss: 0.1387 - val_acc: 0.9478\n",
      "Epoch 18/40\n",
      "1384/1384 - 135s - loss: 0.1456 - acc: 0.9421 - val_loss: 0.1441 - val_acc: 0.9489\n",
      "Epoch 19/40\n",
      "1384/1384 - 141s - loss: 0.1399 - acc: 0.9449 - val_loss: 0.1414 - val_acc: 0.9506\n",
      "Epoch 20/40\n",
      "1384/1384 - 135s - loss: 0.1374 - acc: 0.9458 - val_loss: 0.1542 - val_acc: 0.9469\n",
      "Epoch 21/40\n",
      "1384/1384 - 136s - loss: 0.1317 - acc: 0.9474 - val_loss: 0.1369 - val_acc: 0.9544\n",
      "Epoch 22/40\n",
      "1384/1384 - 137s - loss: 0.1304 - acc: 0.9490 - val_loss: 0.1320 - val_acc: 0.9550\n",
      "Epoch 23/40\n",
      "1384/1384 - 136s - loss: 0.1280 - acc: 0.9485 - val_loss: 0.1261 - val_acc: 0.9570\n",
      "Epoch 24/40\n",
      "1384/1384 - 137s - loss: 0.1263 - acc: 0.9502 - val_loss: 0.1359 - val_acc: 0.9541\n",
      "Epoch 25/40\n",
      "1384/1384 - 138s - loss: 0.1213 - acc: 0.9526 - val_loss: 0.1286 - val_acc: 0.9582\n",
      "Epoch 26/40\n",
      "1384/1384 - 137s - loss: 0.1186 - acc: 0.9529 - val_loss: 0.1242 - val_acc: 0.9617\n",
      "Epoch 27/40\n",
      "1384/1384 - 136s - loss: 0.1170 - acc: 0.9540 - val_loss: 0.1219 - val_acc: 0.9602\n",
      "Epoch 28/40\n",
      "1384/1384 - 137s - loss: 0.1147 - acc: 0.9543 - val_loss: 0.1182 - val_acc: 0.9621\n",
      "Epoch 29/40\n",
      "1384/1384 - 139s - loss: 0.1161 - acc: 0.9542 - val_loss: 0.1141 - val_acc: 0.9631\n",
      "Epoch 30/40\n",
      "1384/1384 - 137s - loss: 0.1106 - acc: 0.9575 - val_loss: 0.1257 - val_acc: 0.9634\n",
      "Epoch 31/40\n",
      "1384/1384 - 136s - loss: 0.1115 - acc: 0.9565 - val_loss: 0.1170 - val_acc: 0.9649\n",
      "Epoch 32/40\n",
      "1384/1384 - 136s - loss: 0.1097 - acc: 0.9570 - val_loss: 0.1132 - val_acc: 0.9663\n",
      "Epoch 33/40\n",
      "1384/1384 - 137s - loss: 0.1088 - acc: 0.9580 - val_loss: 0.1153 - val_acc: 0.9637\n",
      "Epoch 34/40\n",
      "1384/1384 - 138s - loss: 0.1060 - acc: 0.9592 - val_loss: 0.1190 - val_acc: 0.9658\n",
      "Epoch 35/40\n",
      "1384/1384 - 139s - loss: 0.1056 - acc: 0.9588 - val_loss: 0.1076 - val_acc: 0.9672\n",
      "Epoch 36/40\n",
      "1384/1384 - 138s - loss: 0.1029 - acc: 0.9593 - val_loss: 0.1065 - val_acc: 0.9695\n",
      "Epoch 37/40\n",
      "1384/1384 - 136s - loss: 0.1024 - acc: 0.9606 - val_loss: 0.1093 - val_acc: 0.9682\n",
      "Epoch 38/40\n",
      "1384/1384 - 138s - loss: 0.1032 - acc: 0.9596 - val_loss: 0.1066 - val_acc: 0.9690\n",
      "Epoch 39/40\n",
      "1384/1384 - 138s - loss: 0.1040 - acc: 0.9604 - val_loss: 0.1040 - val_acc: 0.9676\n",
      "Epoch 40/40\n",
      "1384/1384 - 138s - loss: 0.0988 - acc: 0.9618 - val_loss: 0.1031 - val_acc: 0.9718\n"
     ]
    }
   ],
   "source": [
    "history = model.fit(X_train_pad, y_train, batch_size=32, epochs = 40, validation_data=(X_test_pad, y_test), verbose=2)"
   ]
  },
  {
   "cell_type": "code",
   "execution_count": 42,
   "metadata": {
    "_cell_guid": "6b0e02d8-7f99-41e4-85fa-47e0d9eb353e",
    "_uuid": "5e4b5eb7-4157-4621-9321-c510ee140d33"
   },
   "outputs": [
    {
     "data": {
      "image/png": "[encoded data removed]",
      "text/plain": [
       "<Figure size 432x288 with 1 Axes>"
      ]
     },
     "metadata": {
      "needs_background": "light"
     },
     "output_type": "display_data"
    },
    {
     "data": {
      "image/png": "[encoded data removed]",
      "text/plain": [
       "<Figure size 432x288 with 1 Axes>"
      ]
     },
     "metadata": {
      "needs_background": "light"
     },
     "output_type": "display_data"
    }
   ],
   "source": [
    "acc = history.history['acc']\n",
    "val_acc = history.history['val_acc']\n",
    "loss = history.history['loss']\n",
    "val_loss = history.history['val_loss']\n",
    "\n",
    "epochs = range(1, len(acc)+1)\n",
    "\n",
    "plt.plot(epochs, acc, 'g', label='Training accuracy')\n",
    "plt.plot(epochs, val_acc, 'r', label='Validation accuracy')\n",
    "plt.title('Training and validation accuracy')\n",
    "plt.legend()\n",
    "\n",
    "plt.figure()\n",
    "\n",
    "plt.plot(epochs, loss, 'g', label='Training loss')\n",
    "plt.plot(epochs, val_loss, 'r', label='Validation loss')\n",
    "plt.title('Training and validation loss')\n",
    "plt.legend()\n",
    "\n",
    "plt.show()"
   ]
  },
  {
   "cell_type": "code",
   "execution_count": 43,
   "metadata": {
    "_cell_guid": "73b54aec-e975-4707-97b8-f58a0c89b848",
    "_uuid": "5ea9b5a9-4240-4694-90f9-1f6d9d02afcd"
   },
   "outputs": [],
   "source": [
    "def predict_sarcasm(s):\n",
    "    x_final = pd.DataFrame({\"headline\":[s]})\n",
    "    test_lines = CleanTokenize(x_final)\n",
    "    test_sequences = tokenizer_obj.texts_to_sequences(test_lines)\n",
    "    test_review_pad = pad_sequences(test_sequences, maxlen=max_length, padding='post')\n",
    "    pred = model.predict(test_review_pad)\n",
    "    pred*=100\n",
    "    if pred[0][0]>=50: return \"It's a sarcasm!\" \n",
    "    else: return \"It's not a sarcasm.\""
   ]
  },
  {
   "cell_type": "code",
   "execution_count": 44,
   "metadata": {
    "_cell_guid": "af922f69-db8e-4cf9-9997-d943e7524ae2",
    "_uuid": "5eb546f7-bf70-405d-a12e-be5c7b977688"
   },
   "outputs": [
    {
     "data": {
      "text/plain": [
       "\"It's not a sarcasm.\""
      ]
     },
     "execution_count": 44,
     "metadata": {},
     "output_type": "execute_result"
    }
   ],
   "source": [
    "predict_sarcasm(\"his name is aman. he is a good person\")"
   ]
  }
 ],
 "metadata": {
  "kernelspec": {
   "display_name": "Python 3",
   "language": "python",
   "name": "python3"
  },
  "language_info": {
   "codemirror_mode": {
    "name": "ipython",
    "version": 3
   },
   "file_extension": ".py",
   "mimetype": "text/x-python",
   "name": "python",
   "nbconvert_exporter": "python",
   "pygments_lexer": "ipython3",
   "version": "3.7.7"
  }
 },
 "nbformat": 4,
 "nbformat_minor": 4
}
